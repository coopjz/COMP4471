{
 "cells": [
  {
   "cell_type": "code",
   "execution_count": 1,
   "id": "149d5b7e",
   "metadata": {},
   "outputs": [
    {
     "ename": "ModuleNotFoundError",
     "evalue": "No module named 'google'",
     "output_type": "error",
     "traceback": [
      "\u001b[0;31m---------------------------------------------------------------------------\u001b[0m",
      "\u001b[0;31mModuleNotFoundError\u001b[0m                       Traceback (most recent call last)",
      "\u001b[0;32m<ipython-input-1-189b17b10db6>\u001b[0m in \u001b[0;36m<module>\u001b[0;34m\u001b[0m\n\u001b[1;32m      1\u001b[0m \u001b[0;31m# This mounts your Google Drive to the Colab VM.\u001b[0m\u001b[0;34m\u001b[0m\u001b[0;34m\u001b[0m\u001b[0;34m\u001b[0m\u001b[0m\n\u001b[0;32m----> 2\u001b[0;31m \u001b[0;32mfrom\u001b[0m \u001b[0mgoogle\u001b[0m\u001b[0;34m.\u001b[0m\u001b[0mcolab\u001b[0m \u001b[0;32mimport\u001b[0m \u001b[0mdrive\u001b[0m\u001b[0;34m\u001b[0m\u001b[0;34m\u001b[0m\u001b[0m\n\u001b[0m\u001b[1;32m      3\u001b[0m \u001b[0mdrive\u001b[0m\u001b[0;34m.\u001b[0m\u001b[0mmount\u001b[0m\u001b[0;34m(\u001b[0m\u001b[0;34m'/content/drive'\u001b[0m\u001b[0;34m)\u001b[0m\u001b[0;34m\u001b[0m\u001b[0;34m\u001b[0m\u001b[0m\n\u001b[1;32m      4\u001b[0m \u001b[0;34m\u001b[0m\u001b[0m\n\u001b[1;32m      5\u001b[0m \u001b[0;31m# TODO: Enter the foldername in your Drive where you have saved the unzipped\u001b[0m\u001b[0;34m\u001b[0m\u001b[0;34m\u001b[0m\u001b[0;34m\u001b[0m\u001b[0m\n",
      "\u001b[0;31mModuleNotFoundError\u001b[0m: No module named 'google'"
     ]
    }
   ],
   "source": [
    "# This mounts your Google Drive to the Colab VM.\n",
    "from google.colab import drive\n",
    "drive.mount('/content/drive')\n",
    "\n",
    "# TODO: Enter the foldername in your Drive where you have saved the unzipped\n",
    "# assignment folder, e.g. 'cs231n/assignments/assignment1/'\n",
    "FOLDERNAME = None\n",
    "assert FOLDERNAME is not None, \"[!] Enter the foldername.\"\n",
    "\n",
    "# Now that we've mounted your Drive, this ensures that\n",
    "# the Python interpreter of the Colab VM can load\n",
    "# python files from within it.\n",
    "import sys\n",
    "sys.path.append('/content/drive/My Drive/{}'.format(FOLDERNAME))\n",
    "\n",
    "# This downloads the CIFAR-10 dataset to your Drive\n",
    "# if it doesn't already exist.\n",
    "%cd /content/drive/My\\ Drive/$FOLDERNAME/cs231n/datasets/\n",
    "!bash get_datasets.sh\n",
    "%cd /content/drive/My\\ Drive/$FOLDERNAME"
   ]
  },
  {
   "cell_type": "markdown",
   "id": "5fdfc27e",
   "metadata": {
    "tags": [
     "pdf-title"
    ]
   },
   "source": [
    "# Softmax exercise\n",
    "\n",
    "*Complete and hand in this completed worksheet (including its outputs and any supporting code outside of the worksheet) with your assignment submission. For more details see the [assignments page](http://vision.stanford.edu/teaching/cs231n/assignments.html) on the course website.*\n",
    "\n",
    "This exercise is analogous to the SVM exercise. You will:\n",
    "\n",
    "- implement a fully-vectorized **loss function** for the Softmax classifier\n",
    "- implement the fully-vectorized expression for its **analytic gradient**\n",
    "- **check your implementation** with numerical gradient\n",
    "- use a validation set to **tune the learning rate and regularization** strength\n",
    "- **optimize** the loss function with **SGD**\n",
    "- **visualize** the final learned weights\n"
   ]
  },
  {
   "cell_type": "code",
   "execution_count": 5,
   "id": "ca6cf2d4",
   "metadata": {
    "tags": [
     "pdf-ignore"
    ]
   },
   "outputs": [],
   "source": [
    "import random\n",
    "import numpy as np\n",
    "from cs231n.data_utils import load_CIFAR10\n",
    "import matplotlib.pyplot as plt\n",
    "\n",
    "%matplotlib inline\n",
    "plt.rcParams['figure.figsize'] = (10.0, 8.0) # set default size of plots\n",
    "plt.rcParams['image.interpolation'] = 'nearest'\n",
    "plt.rcParams['image.cmap'] = 'gray'\n",
    "\n",
    "# for auto-reloading extenrnal modules\n",
    "# see http://stackoverflow.com/questions/1907993/autoreload-of-modules-in-ipython\n",
    "%load_ext autoreload\n",
    "%autoreload 2"
   ]
  },
  {
   "cell_type": "code",
   "execution_count": 6,
   "id": "9e9bbbbe",
   "metadata": {
    "tags": [
     "pdf-ignore"
    ]
   },
   "outputs": [
    {
     "name": "stdout",
     "output_type": "stream",
     "text": [
      "Train data shape:  (49000, 3073)\n",
      "Train labels shape:  (49000,)\n",
      "Validation data shape:  (1000, 3073)\n",
      "Validation labels shape:  (1000,)\n",
      "Test data shape:  (1000, 3073)\n",
      "Test labels shape:  (1000,)\n",
      "dev data shape:  (500, 3073)\n",
      "dev labels shape:  (500,)\n"
     ]
    }
   ],
   "source": [
    "def get_CIFAR10_data(num_training=49000, num_validation=1000, num_test=1000, num_dev=500):\n",
    "    \"\"\"\n",
    "    Load the CIFAR-10 dataset from disk and perform preprocessing to prepare\n",
    "    it for the linear classifier. These are the same steps as we used for the\n",
    "    SVM, but condensed to a single function.  \n",
    "    \"\"\"\n",
    "    # Load the raw CIFAR-10 data\n",
    "    cifar10_dir = 'cs231n/datasets/cifar-10-batches-py'\n",
    "    \n",
    "    # Cleaning up variables to prevent loading data multiple times (which may cause memory issue)\n",
    "    try:\n",
    "       del X_train, y_train\n",
    "       del X_test, y_test\n",
    "       print('Clear previously loaded data.')\n",
    "    except:\n",
    "       pass\n",
    "\n",
    "    X_train, y_train, X_test, y_test = load_CIFAR10(cifar10_dir)\n",
    "    \n",
    "    # subsample the data\n",
    "    mask = list(range(num_training, num_training + num_validation))\n",
    "    X_val = X_train[mask]\n",
    "    y_val = y_train[mask]\n",
    "    mask = list(range(num_training))\n",
    "    X_train = X_train[mask]\n",
    "    y_train = y_train[mask]\n",
    "    mask = list(range(num_test))\n",
    "    X_test = X_test[mask]\n",
    "    y_test = y_test[mask]\n",
    "    mask = np.random.choice(num_training, num_dev, replace=False)\n",
    "    X_dev = X_train[mask]\n",
    "    y_dev = y_train[mask]\n",
    "    \n",
    "    # Preprocessing: reshape the image data into rows\n",
    "    X_train = np.reshape(X_train, (X_train.shape[0], -1))\n",
    "    X_val = np.reshape(X_val, (X_val.shape[0], -1))\n",
    "    X_test = np.reshape(X_test, (X_test.shape[0], -1))\n",
    "    X_dev = np.reshape(X_dev, (X_dev.shape[0], -1))\n",
    "    \n",
    "    # Normalize the data: subtract the mean image\n",
    "    mean_image = np.mean(X_train, axis = 0)\n",
    "    X_train -= mean_image\n",
    "    X_val -= mean_image\n",
    "    X_test -= mean_image\n",
    "    X_dev -= mean_image\n",
    "    \n",
    "    # add bias dimension and transform into columns\n",
    "    X_train = np.hstack([X_train, np.ones((X_train.shape[0], 1))])\n",
    "    X_val = np.hstack([X_val, np.ones((X_val.shape[0], 1))])\n",
    "    X_test = np.hstack([X_test, np.ones((X_test.shape[0], 1))])\n",
    "    X_dev = np.hstack([X_dev, np.ones((X_dev.shape[0], 1))])\n",
    "    \n",
    "    return X_train, y_train, X_val, y_val, X_test, y_test, X_dev, y_dev\n",
    "\n",
    "\n",
    "# Invoke the above function to get our data.\n",
    "X_train, y_train, X_val, y_val, X_test, y_test, X_dev, y_dev = get_CIFAR10_data()\n",
    "print('Train data shape: ', X_train.shape)\n",
    "print('Train labels shape: ', y_train.shape)\n",
    "print('Validation data shape: ', X_val.shape)\n",
    "print('Validation labels shape: ', y_val.shape)\n",
    "print('Test data shape: ', X_test.shape)\n",
    "print('Test labels shape: ', y_test.shape)\n",
    "print('dev data shape: ', X_dev.shape)\n",
    "print('dev labels shape: ', y_dev.shape)"
   ]
  },
  {
   "cell_type": "markdown",
   "id": "d4c3fb04",
   "metadata": {},
   "source": [
    "## Softmax Classifier\n",
    "\n",
    "Your code for this section will all be written inside `cs231n/classifiers/softmax.py`.\n"
   ]
  },
  {
   "cell_type": "code",
   "execution_count": 7,
   "id": "25f2e5e1",
   "metadata": {},
   "outputs": [
    {
     "name": "stdout",
     "output_type": "stream",
     "text": [
      "loss: 2.378504\n",
      "sanity check: 2.302585\n"
     ]
    }
   ],
   "source": [
    "# First implement the naive softmax loss function with nested loops.\n",
    "# Open the file cs231n/classifiers/softmax.py and implement the\n",
    "# softmax_loss_naive function.\n",
    "\n",
    "from cs231n.classifiers.softmax import softmax_loss_naive\n",
    "import time\n",
    "\n",
    "# Generate a random softmax weight matrix and use it to compute the loss.\n",
    "W = np.random.randn(3073, 10) * 0.0001\n",
    "loss, grad = softmax_loss_naive(W, X_dev, y_dev, 0.0)\n",
    "\n",
    "# As a rough sanity check, our loss should be something close to -log(0.1).\n",
    "print('loss: %f' % loss)\n",
    "print('sanity check: %f' % (-np.log(0.1)))"
   ]
  },
  {
   "cell_type": "markdown",
   "id": "15ebc638",
   "metadata": {
    "tags": [
     "pdf-inline"
    ]
   },
   "source": [
    "**Inline Question 1**\n",
    "\n",
    "Why do we expect our loss to be close to -log(0.1)? Explain briefly.**\n",
    "\n",
    "$\\color{blue}{\\textit Your Answer:}$ *Fill this in* \n",
    "\n",
    "we should have the same score for all classes no matter the input. Therefore, we should expect the loss starts from N=10.\n",
    "\n"
   ]
  },
  {
   "cell_type": "code",
   "execution_count": 8,
   "id": "a8cb3eb1",
   "metadata": {},
   "outputs": [
    {
     "name": "stdout",
     "output_type": "stream",
     "text": [
      "numerical: 0.091586 analytic: 0.091586, relative error: 4.778132e-07\n",
      "numerical: 0.635370 analytic: 0.635370, relative error: 1.018943e-08\n",
      "numerical: 0.139359 analytic: 0.139359, relative error: 4.266308e-07\n",
      "numerical: 1.181014 analytic: 1.181014, relative error: 3.471331e-08\n",
      "numerical: 3.243992 analytic: 3.243992, relative error: 4.082824e-09\n",
      "numerical: -1.884724 analytic: -1.884724, relative error: 2.323749e-08\n",
      "numerical: 0.400701 analytic: 0.400701, relative error: 7.376342e-08\n",
      "numerical: -1.469843 analytic: -1.469843, relative error: 4.081758e-09\n",
      "numerical: -3.895666 analytic: -3.895665, relative error: 1.621798e-08\n",
      "numerical: 0.786447 analytic: 0.786447, relative error: 1.113026e-07\n",
      "numerical: 1.090752 analytic: 1.090752, relative error: 7.989243e-08\n",
      "numerical: -0.818332 analytic: -0.818332, relative error: 1.133686e-08\n",
      "numerical: 1.425177 analytic: 1.425177, relative error: 3.117591e-08\n",
      "numerical: 1.605318 analytic: 1.605318, relative error: 5.079022e-09\n",
      "numerical: 0.398720 analytic: 0.398720, relative error: 1.552745e-07\n",
      "numerical: -0.142474 analytic: -0.142474, relative error: 3.811365e-08\n",
      "numerical: -0.370396 analytic: -0.370396, relative error: 1.165182e-07\n",
      "numerical: -0.313881 analytic: -0.313881, relative error: 7.199029e-08\n",
      "numerical: -1.178505 analytic: -1.178505, relative error: 1.965704e-08\n",
      "numerical: -0.739432 analytic: -0.739432, relative error: 9.704426e-08\n"
     ]
    }
   ],
   "source": [
    "# Complete the implementation of softmax_loss_naive and implement a (naive)\n",
    "# version of the gradient that uses nested loops.\n",
    "loss, grad = softmax_loss_naive(W, X_dev, y_dev, 0.0)\n",
    "\n",
    "# As we did for the SVM, use numeric gradient checking as a debugging tool.\n",
    "# The numeric gradient should be close to the analytic gradient.\n",
    "from cs231n.gradient_check import grad_check_sparse\n",
    "f = lambda w: softmax_loss_naive(w, X_dev, y_dev, 0.0)[0]\n",
    "grad_numerical = grad_check_sparse(f, W, grad, 10)\n",
    "\n",
    "# similar to SVM case, do another gradient check with regularization\n",
    "loss, grad = softmax_loss_naive(W, X_dev, y_dev, 5e1)\n",
    "f = lambda w: softmax_loss_naive(w, X_dev, y_dev, 5e1)[0]\n",
    "grad_numerical = grad_check_sparse(f, W, grad, 10)"
   ]
  },
  {
   "cell_type": "code",
   "execution_count": 9,
   "id": "4a4a81d4",
   "metadata": {},
   "outputs": [
    {
     "name": "stdout",
     "output_type": "stream",
     "text": [
      "naive loss: 2.378504e+00 computed in 0.050538s\n",
      "vectorized loss: 2.378504e+00 computed in 0.062936s\n",
      "Loss difference: 0.000000\n",
      "Gradient difference: 0.000000\n"
     ]
    }
   ],
   "source": [
    "# Now that we have a naive implementation of the softmax loss function and its gradient,\n",
    "# implement a vectorized version in softmax_loss_vectorized.\n",
    "# The two versions should compute the same results, but the vectorized version should be\n",
    "# much faster.\n",
    "tic = time.time()\n",
    "loss_naive, grad_naive = softmax_loss_naive(W, X_dev, y_dev, 0.000005)\n",
    "toc = time.time()\n",
    "print('naive loss: %e computed in %fs' % (loss_naive, toc - tic))\n",
    "\n",
    "from cs231n.classifiers.softmax import softmax_loss_vectorized\n",
    "tic = time.time()\n",
    "loss_vectorized, grad_vectorized = softmax_loss_vectorized(W, X_dev, y_dev, 0.000005)\n",
    "toc = time.time()\n",
    "print('vectorized loss: %e computed in %fs' % (loss_vectorized, toc - tic))\n",
    "\n",
    "# As we did for the SVM, we use the Frobenius norm to compare the two versions\n",
    "# of the gradient.\n",
    "grad_difference = np.linalg.norm(grad_naive - grad_vectorized, ord='fro')\n",
    "print('Loss difference: %f' % np.abs(loss_naive - loss_vectorized))\n",
    "print('Gradient difference: %f' % grad_difference)"
   ]
  },
  {
   "cell_type": "code",
   "execution_count": 10,
   "id": "a3453536",
   "metadata": {
    "tags": [
     "code"
    ],
    "test": "tuning"
   },
   "outputs": [
    {
     "name": "stderr",
     "output_type": "stream",
     "text": [
      "/home/cooper/Documents/comp4471/assignment1/cs231n/classifiers/softmax.py:78: RuntimeWarning: overflow encountered in exp\n",
      "  exp_Wx = np.exp(Wx)\n",
      "/home/cooper/Documents/comp4471/assignment1/cs231n/classifiers/softmax.py:80: RuntimeWarning: invalid value encountered in true_divide\n",
      "  loss = np.sum(-np.log(exp_Wx[np.arange(num_train), y] / sum_exp_Wx))\n",
      "/home/cooper/Documents/comp4471/assignment1/cs231n/classifiers/softmax.py:80: RuntimeWarning: divide by zero encountered in log\n",
      "  loss = np.sum(-np.log(exp_Wx[np.arange(num_train), y] / sum_exp_Wx))\n",
      "/home/cooper/Documents/comp4471/assignment1/cs231n/classifiers/softmax.py:83: RuntimeWarning: invalid value encountered in true_divide\n",
      "  weights = exp_Wx / sum_exp_Wx.reshape(-1, 1)\n"
     ]
    },
    {
     "name": "stdout",
     "output_type": "stream",
     "text": [
      "Finish 1/10, time for this iter is 3.846262s\n",
      "Finish 2/10, time for this iter is 3.219445s\n",
      "Finish 3/10, time for this iter is 2.940309s\n",
      "Finish 4/10, time for this iter is 3.171849s\n",
      "Finish 5/10, time for this iter is 5.128260s\n",
      "Finish 6/10, time for this iter is 5.014900s\n",
      "Finish 7/10, time for this iter is 4.161523s\n",
      "Finish 8/10, time for this iter is 7.821477s\n",
      "Finish 9/10, time for this iter is 3.413399s\n",
      "Finish 10/10, time for this iter is 5.294451s\n",
      "lr 1.000000e-07 reg 1.000000e+01 train accuracy: 0.189633 val accuracy: 0.191000\n",
      "lr 1.000000e-07 reg 2.154435e+01 train accuracy: 0.194755 val accuracy: 0.173000\n",
      "lr 1.000000e-07 reg 4.641589e+01 train accuracy: 0.179408 val accuracy: 0.181000\n",
      "lr 1.000000e-07 reg 1.000000e+02 train accuracy: 0.178388 val accuracy: 0.181000\n",
      "lr 1.000000e-07 reg 2.154435e+02 train accuracy: 0.189755 val accuracy: 0.202000\n",
      "lr 1.000000e-07 reg 4.641589e+02 train accuracy: 0.183571 val accuracy: 0.192000\n",
      "lr 1.000000e-07 reg 1.000000e+03 train accuracy: 0.169367 val accuracy: 0.183000\n",
      "lr 1.000000e-07 reg 2.154435e+03 train accuracy: 0.185857 val accuracy: 0.200000\n",
      "lr 1.000000e-07 reg 4.641589e+03 train accuracy: 0.187286 val accuracy: 0.188000\n",
      "lr 1.000000e-07 reg 1.000000e+04 train accuracy: 0.206000 val accuracy: 0.196000\n",
      "lr 4.641589e-07 reg 1.000000e+01 train accuracy: 0.242959 val accuracy: 0.237000\n",
      "lr 4.641589e-07 reg 2.154435e+01 train accuracy: 0.243041 val accuracy: 0.252000\n",
      "lr 4.641589e-07 reg 4.641589e+01 train accuracy: 0.238612 val accuracy: 0.257000\n",
      "lr 4.641589e-07 reg 1.000000e+02 train accuracy: 0.255633 val accuracy: 0.267000\n",
      "lr 4.641589e-07 reg 2.154435e+02 train accuracy: 0.250102 val accuracy: 0.248000\n",
      "lr 4.641589e-07 reg 4.641589e+02 train accuracy: 0.258714 val accuracy: 0.261000\n",
      "lr 4.641589e-07 reg 1.000000e+03 train accuracy: 0.257878 val accuracy: 0.270000\n",
      "lr 4.641589e-07 reg 2.154435e+03 train accuracy: 0.281184 val accuracy: 0.286000\n",
      "lr 4.641589e-07 reg 4.641589e+03 train accuracy: 0.317714 val accuracy: 0.324000\n",
      "lr 4.641589e-07 reg 1.000000e+04 train accuracy: 0.347551 val accuracy: 0.347000\n",
      "lr 2.154435e-06 reg 1.000000e+01 train accuracy: 0.306367 val accuracy: 0.317000\n",
      "lr 2.154435e-06 reg 2.154435e+01 train accuracy: 0.309571 val accuracy: 0.311000\n",
      "lr 2.154435e-06 reg 4.641589e+01 train accuracy: 0.316265 val accuracy: 0.310000\n",
      "lr 2.154435e-06 reg 1.000000e+02 train accuracy: 0.315306 val accuracy: 0.310000\n",
      "lr 2.154435e-06 reg 2.154435e+02 train accuracy: 0.316959 val accuracy: 0.315000\n",
      "lr 2.154435e-06 reg 4.641589e+02 train accuracy: 0.347143 val accuracy: 0.333000\n",
      "lr 2.154435e-06 reg 1.000000e+03 train accuracy: 0.365143 val accuracy: 0.363000\n",
      "lr 2.154435e-06 reg 2.154435e+03 train accuracy: 0.370633 val accuracy: 0.394000\n",
      "lr 2.154435e-06 reg 4.641589e+03 train accuracy: 0.355367 val accuracy: 0.368000\n",
      "lr 2.154435e-06 reg 1.000000e+04 train accuracy: 0.336531 val accuracy: 0.336000\n",
      "lr 1.000000e-05 reg 1.000000e+01 train accuracy: 0.273755 val accuracy: 0.271000\n",
      "lr 1.000000e-05 reg 2.154435e+01 train accuracy: 0.317245 val accuracy: 0.329000\n",
      "lr 1.000000e-05 reg 4.641589e+01 train accuracy: 0.301306 val accuracy: 0.307000\n",
      "lr 1.000000e-05 reg 1.000000e+02 train accuracy: 0.316163 val accuracy: 0.334000\n",
      "lr 1.000000e-05 reg 2.154435e+02 train accuracy: 0.297612 val accuracy: 0.301000\n",
      "lr 1.000000e-05 reg 4.641589e+02 train accuracy: 0.275265 val accuracy: 0.277000\n",
      "lr 1.000000e-05 reg 1.000000e+03 train accuracy: 0.242796 val accuracy: 0.244000\n",
      "lr 1.000000e-05 reg 2.154435e+03 train accuracy: 0.229490 val accuracy: 0.248000\n",
      "lr 1.000000e-05 reg 4.641589e+03 train accuracy: 0.214408 val accuracy: 0.212000\n",
      "lr 1.000000e-05 reg 1.000000e+04 train accuracy: 0.143367 val accuracy: 0.148000\n",
      "lr 4.641589e-05 reg 1.000000e+01 train accuracy: 0.276224 val accuracy: 0.284000\n",
      "lr 4.641589e-05 reg 2.154435e+01 train accuracy: 0.268918 val accuracy: 0.283000\n",
      "lr 4.641589e-05 reg 4.641589e+01 train accuracy: 0.277816 val accuracy: 0.282000\n",
      "lr 4.641589e-05 reg 1.000000e+02 train accuracy: 0.237551 val accuracy: 0.234000\n",
      "lr 4.641589e-05 reg 2.154435e+02 train accuracy: 0.242776 val accuracy: 0.268000\n",
      "lr 4.641589e-05 reg 4.641589e+02 train accuracy: 0.183122 val accuracy: 0.185000\n",
      "lr 4.641589e-05 reg 1.000000e+03 train accuracy: 0.215959 val accuracy: 0.200000\n",
      "lr 4.641589e-05 reg 2.154435e+03 train accuracy: 0.187408 val accuracy: 0.193000\n",
      "lr 4.641589e-05 reg 4.641589e+03 train accuracy: 0.134429 val accuracy: 0.149000\n",
      "lr 4.641589e-05 reg 1.000000e+04 train accuracy: 0.102184 val accuracy: 0.099000\n",
      "lr 2.154435e-04 reg 1.000000e+01 train accuracy: 0.100265 val accuracy: 0.087000\n",
      "lr 2.154435e-04 reg 2.154435e+01 train accuracy: 0.100265 val accuracy: 0.087000\n",
      "lr 2.154435e-04 reg 4.641589e+01 train accuracy: 0.263000 val accuracy: 0.258000\n",
      "lr 2.154435e-04 reg 1.000000e+02 train accuracy: 0.100265 val accuracy: 0.087000\n",
      "lr 2.154435e-04 reg 2.154435e+02 train accuracy: 0.100265 val accuracy: 0.087000\n",
      "lr 2.154435e-04 reg 4.641589e+02 train accuracy: 0.100265 val accuracy: 0.087000\n",
      "lr 2.154435e-04 reg 1.000000e+03 train accuracy: 0.100265 val accuracy: 0.087000\n",
      "lr 2.154435e-04 reg 2.154435e+03 train accuracy: 0.100265 val accuracy: 0.087000\n",
      "lr 2.154435e-04 reg 4.641589e+03 train accuracy: 0.100265 val accuracy: 0.087000\n",
      "lr 2.154435e-04 reg 1.000000e+04 train accuracy: 0.100265 val accuracy: 0.087000\n",
      "lr 1.000000e-03 reg 1.000000e+01 train accuracy: 0.100265 val accuracy: 0.087000\n",
      "lr 1.000000e-03 reg 2.154435e+01 train accuracy: 0.100265 val accuracy: 0.087000\n",
      "lr 1.000000e-03 reg 4.641589e+01 train accuracy: 0.100265 val accuracy: 0.087000\n",
      "lr 1.000000e-03 reg 1.000000e+02 train accuracy: 0.100265 val accuracy: 0.087000\n",
      "lr 1.000000e-03 reg 2.154435e+02 train accuracy: 0.100265 val accuracy: 0.087000\n",
      "lr 1.000000e-03 reg 4.641589e+02 train accuracy: 0.100265 val accuracy: 0.087000\n",
      "lr 1.000000e-03 reg 1.000000e+03 train accuracy: 0.100265 val accuracy: 0.087000\n",
      "lr 1.000000e-03 reg 2.154435e+03 train accuracy: 0.100265 val accuracy: 0.087000\n",
      "lr 1.000000e-03 reg 4.641589e+03 train accuracy: 0.100265 val accuracy: 0.087000\n",
      "lr 1.000000e-03 reg 1.000000e+04 train accuracy: 0.100265 val accuracy: 0.087000\n",
      "lr 4.641589e-03 reg 1.000000e+01 train accuracy: 0.100265 val accuracy: 0.087000\n",
      "lr 4.641589e-03 reg 2.154435e+01 train accuracy: 0.100265 val accuracy: 0.087000\n",
      "lr 4.641589e-03 reg 4.641589e+01 train accuracy: 0.100265 val accuracy: 0.087000\n",
      "lr 4.641589e-03 reg 1.000000e+02 train accuracy: 0.100265 val accuracy: 0.087000\n",
      "lr 4.641589e-03 reg 2.154435e+02 train accuracy: 0.100265 val accuracy: 0.087000\n",
      "lr 4.641589e-03 reg 4.641589e+02 train accuracy: 0.100265 val accuracy: 0.087000\n",
      "lr 4.641589e-03 reg 1.000000e+03 train accuracy: 0.100265 val accuracy: 0.087000\n",
      "lr 4.641589e-03 reg 2.154435e+03 train accuracy: 0.100265 val accuracy: 0.087000\n",
      "lr 4.641589e-03 reg 4.641589e+03 train accuracy: 0.100265 val accuracy: 0.087000\n",
      "lr 4.641589e-03 reg 1.000000e+04 train accuracy: 0.100265 val accuracy: 0.087000\n",
      "lr 2.154435e-02 reg 1.000000e+01 train accuracy: 0.100265 val accuracy: 0.087000\n",
      "lr 2.154435e-02 reg 2.154435e+01 train accuracy: 0.100265 val accuracy: 0.087000\n",
      "lr 2.154435e-02 reg 4.641589e+01 train accuracy: 0.100265 val accuracy: 0.087000\n",
      "lr 2.154435e-02 reg 1.000000e+02 train accuracy: 0.100265 val accuracy: 0.087000\n",
      "lr 2.154435e-02 reg 2.154435e+02 train accuracy: 0.100265 val accuracy: 0.087000\n",
      "lr 2.154435e-02 reg 4.641589e+02 train accuracy: 0.100265 val accuracy: 0.087000\n",
      "lr 2.154435e-02 reg 1.000000e+03 train accuracy: 0.100265 val accuracy: 0.087000\n",
      "lr 2.154435e-02 reg 2.154435e+03 train accuracy: 0.100265 val accuracy: 0.087000\n",
      "lr 2.154435e-02 reg 4.641589e+03 train accuracy: 0.100265 val accuracy: 0.087000\n",
      "lr 2.154435e-02 reg 1.000000e+04 train accuracy: 0.100265 val accuracy: 0.087000\n",
      "lr 1.000000e-01 reg 1.000000e+01 train accuracy: 0.100265 val accuracy: 0.087000\n",
      "lr 1.000000e-01 reg 2.154435e+01 train accuracy: 0.100265 val accuracy: 0.087000\n",
      "lr 1.000000e-01 reg 4.641589e+01 train accuracy: 0.100265 val accuracy: 0.087000\n",
      "lr 1.000000e-01 reg 1.000000e+02 train accuracy: 0.100265 val accuracy: 0.087000\n",
      "lr 1.000000e-01 reg 2.154435e+02 train accuracy: 0.100265 val accuracy: 0.087000\n",
      "lr 1.000000e-01 reg 4.641589e+02 train accuracy: 0.100265 val accuracy: 0.087000\n",
      "lr 1.000000e-01 reg 1.000000e+03 train accuracy: 0.100265 val accuracy: 0.087000\n",
      "lr 1.000000e-01 reg 2.154435e+03 train accuracy: 0.100265 val accuracy: 0.087000\n",
      "lr 1.000000e-01 reg 4.641589e+03 train accuracy: 0.100265 val accuracy: 0.087000\n",
      "lr 1.000000e-01 reg 1.000000e+04 train accuracy: 0.100265 val accuracy: 0.087000\n",
      "best validation accuracy achieved during cross-validation: 0.394000\n"
     ]
    }
   ],
   "source": [
    "# Use the validation set to tune hyperparameters (regularization strength and\n",
    "# learning rate). You should experiment with different ranges for the learning\n",
    "# rates and regularization strengths; if you are careful you should be able to\n",
    "# get a classification accuracy of over 0.35 on the validation set.\n",
    "\n",
    "from cs231n.classifiers import Softmax\n",
    "results = {}\n",
    "best_val = -1\n",
    "best_softmax = None\n",
    "\n",
    "################################################################################\n",
    "# TODO:                                                                        #\n",
    "# Use the validation set to set the learning rate and regularization strength. #\n",
    "# This should be identical to the validation that you did for the SVM; save    #\n",
    "# the best trained softmax classifer in best_softmax.                          #\n",
    "################################################################################\n",
    "\n",
    "# Provided as a reference. You may or may not want to change these hyperparameters\n",
    "learning_rates = np.logspace(-1,-7,10)\n",
    "regularization_strengths = np.logspace(1,4,10)\n",
    "\n",
    "# *****START OF YOUR CODE (DO NOT DELETE/MODIFY THIS LINE)*****\n",
    "results_array = np.zeros((regularization_strengths.shape[0], learning_rates.shape[0]))\n",
    "for lr in learning_rates:\n",
    "    tic = time.time()\n",
    "    for rs in regularization_strengths:\n",
    "        softm = Softmax()\n",
    "        softm.train(X_train, y_train, learning_rate=lr, reg=rs, num_iters=300)\n",
    "        train_acc = np.mean(softm.predict(X_train) == y_train)\n",
    "        val_acc = np.mean(softm.predict(X_val) == y_val)\n",
    "        results[(lr, rs)] = (train_acc, val_acc)\n",
    "        results_array[np.where(regularization_strengths == rs)[0], np.where(learning_rates == lr)[0]] = val_acc\n",
    "        if best_val < val_acc:\n",
    "            best_val = val_acc\n",
    "            best_softmax = softm\n",
    "    toc = time.time()\n",
    "    print(\"Finish %d/%d, time for this iter is %fs\" % (np.where(learning_rates == lr)[0]+1, learning_rates.shape[0], toc-tic))\n",
    "\n",
    "pass\n",
    "\n",
    "# *****END OF YOUR CODE (DO NOT DELETE/MODIFY THIS LINE)*****\n",
    "    \n",
    "# Print out results.\n",
    "for lr, reg in sorted(results):\n",
    "    train_accuracy, val_accuracy = results[(lr, reg)]\n",
    "    print('lr %e reg %e train accuracy: %f val accuracy: %f' % (\n",
    "                lr, reg, train_accuracy, val_accuracy))\n",
    "    \n",
    "print('best validation accuracy achieved during cross-validation: %f' % best_val)"
   ]
  },
  {
   "cell_type": "code",
   "execution_count": 11,
   "id": "8a1f9db3",
   "metadata": {
    "test": "test"
   },
   "outputs": [
    {
     "name": "stdout",
     "output_type": "stream",
     "text": [
      "softmax on raw pixels final test set accuracy: 0.361000\n"
     ]
    }
   ],
   "source": [
    "# evaluate on test set\n",
    "# Evaluate the best softmax on test set\n",
    "y_test_pred = best_softmax.predict(X_test)\n",
    "test_accuracy = np.mean(y_test == y_test_pred)\n",
    "print('softmax on raw pixels final test set accuracy: %f' % (test_accuracy, ))"
   ]
  },
  {
   "cell_type": "markdown",
   "id": "86b9b65c",
   "metadata": {
    "tags": [
     "pdf-inline"
    ]
   },
   "source": [
    "**Inline Question 2** - *True or False*\n",
    "\n",
    "Suppose the overall training loss is defined as the sum of the per-datapoint loss over all training examples. It is possible to add a new datapoint to a training set that would leave the SVM loss unchanged, but this is not the case with the Softmax classifier loss.\n",
    "\n",
    "$\\color{blue}{\\textit Your Answer:}$\n",
    "True\n",
    "\n",
    "$\\color{blue}{\\textit Your Explanation:}$\n",
    "Softmax classifier loss, the per-datapoint loss is defined as the negative log probability assigned to the correct class.The probability for each class is computed by exponentiating the score for that class and normalizing over all classes.\n"
   ]
  },
  {
   "cell_type": "code",
   "execution_count": 12,
   "id": "009f08b9",
   "metadata": {},
   "outputs": [
    {
     "data": {
      "image/png": "[encoded data removed]",
      "text/plain": [
       "<Figure size 1000x800 with 10 Axes>"
      ]
     },
     "metadata": {},
     "output_type": "display_data"
    }
   ],
   "source": [
    "# Visualize the learned weights for each class\n",
    "w = best_softmax.W[:-1,:] # strip out the bias\n",
    "w = w.reshape(32, 32, 3, 10)\n",
    "\n",
    "w_min, w_max = np.min(w), np.max(w)\n",
    "\n",
    "classes = ['plane', 'car', 'bird', 'cat', 'deer', 'dog', 'frog', 'horse', 'ship', 'truck']\n",
    "for i in range(10):\n",
    "    plt.subplot(2, 5, i + 1)\n",
    "    \n",
    "    # Rescale the weights to be between 0 and 255\n",
    "    wimg = 255.0 * (w[:, :, :, i].squeeze() - w_min) / (w_max - w_min)\n",
    "    plt.imshow(wimg.astype('uint8'))\n",
    "    plt.axis('off')\n",
    "    plt.title(classes[i])"
   ]
  },
  {
   "cell_type": "code",
   "execution_count": null,
   "id": "3569b36b",
   "metadata": {},
   "outputs": [],
   "source": []
  }
 ],
 "metadata": {
  "kernelspec": {
   "display_name": "comp4471",
   "language": "python",
   "name": "python3"
  },
  "language_info": {
   "codemirror_mode": {
    "name": "ipython",
    "version": 3
   },
   "file_extension": ".py",
   "mimetype": "text/x-python",
   "name": "python",
   "nbconvert_exporter": "python",
   "pygments_lexer": "ipython3",
   "version": "3.7.16"
  }
 },
 "nbformat": 4,
 "nbformat_minor": 5
}
